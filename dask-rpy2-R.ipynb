{
 "cells": [
  {
   "cell_type": "markdown",
   "metadata": {},
   "source": [
    "# **Parallilize R code with Dask**\n",
    "\n",
    "Dask can be used to distribute the executing of R code across a cluster.\n",
    "In this example each worker gets the same R code to execute on different data.\n",
    "It does not parallize the R algorithms or any of the code. The R code runs isolated in the thread of their worker.\n",
    "\n",
    "This example is an extension of the [Dask Dataframe example](https://github.com/dask/dask-examples/blob/master/dataframe.ipynb).\n",
    "\n",
    "### **Requirements for each worker:**\n",
    "- [rpy2](https://rpy2.bitbucket.io/)\n",
    "- [R](https://www.digitalocean.com/community/tutorials/how-to-install-r-on-ubuntu-16-04-2) \n",
    "\n",
    "\n",
    "### **Install rpy2**\n",
    "**NOTE:** Make sure that R is already installed and available else this will not work properly."
   ]
  },
  {
   "cell_type": "code",
   "execution_count": null,
   "metadata": {},
   "outputs": [],
   "source": [
    "!pip install rpy2"
   ]
  },
  {
   "cell_type": "markdown",
   "metadata": {},
   "source": [
    "#### **Imports**"
   ]
  },
  {
   "cell_type": "code",
   "execution_count": 1,
   "metadata": {},
   "outputs": [],
   "source": [
    "import pandas as pd\n",
    "\n",
    "import dask.dataframe as dd\n",
    "\n",
    "import rpy2.robjects as ro\n",
    "from rpy2.robjects import pandas2ri\n",
    "from rpy2.robjects.packages import importr"
   ]
  },
  {
   "cell_type": "markdown",
   "metadata": {},
   "source": [
    "#### **Create dummy data**\n",
    "\n",
    "We create a random timeseries of data with the following attributes:\n",
    "\n",
    "    It stores a record for every 1 hour of the year 2000\n",
    "    It splits that year by month, keeping every month as a separate Pandas dataframe\n",
    "    Along with a datetime index it has columns for names, ids, and numeric values\n"
   ]
  },
  {
   "cell_type": "code",
   "execution_count": 2,
   "metadata": {},
   "outputs": [],
   "source": [
    "df = dd.demo.make_timeseries('2000-01-01', '2000-12-31', freq='1h', partition_freq='1M',\n",
    "                             dtypes={'name': str, 'id': int, 'x': float, 'y': float})"
   ]
  },
  {
   "cell_type": "markdown",
   "metadata": {},
   "source": [
    "#### **Create the callable function**\n",
    "Below is the function created with the R code in it. This acts like a regular python function but does call the interpreter. Keep in mind that the R code stays single threaded as it might behave unexpectedly if you're using R code that is multi-threaded."
   ]
  },
  {
   "cell_type": "code",
   "execution_count": 3,
   "metadata": {},
   "outputs": [],
   "source": [
    "def perform_r_ops(df):\n",
    "    rstring=\"\"\"\n",
    "        function(df){{\n",
    "            df_slice <- df$x\n",
    "            mean(df_slice)                # The data that is returned to Python from the R function. A simple calculation for illustration purposes.\n",
    "        }}\n",
    "    \"\"\"\n",
    "    pandas2ri.activate()             # Activate the environment for each worker through the function\n",
    "    rfunc = ro.r(rstring)            # Create an R object\n",
    "    rdf = pandas2ri.DataFrame(df)    # Convert the pandas dataframe to an R dataframe\n",
    "    r_df = rfunc(df)                 # Execute the R code with the R dataframe as argument\n",
    "    return r_df                      # Return the output. "
   ]
  },
  {
   "cell_type": "markdown",
   "metadata": {},
   "source": [
    "### Extracting the return values of Rpy2\n",
    "\n",
    "RPY2 returns their own objects and can be accesed through several ways.\n",
    "For more info about extracting see: http://rpy2.readthedocs.io/en/version_2.8.x/vector.html#extracting-python-style"
   ]
  },
  {
   "cell_type": "markdown",
   "metadata": {},
   "source": [
    "#### **Groupby Apply with RPY2**"
   ]
  },
  {
   "cell_type": "code",
   "execution_count": 4,
   "metadata": {},
   "outputs": [
    {
     "data": {
      "text/plain": [
       "name\n",
       "Alice       [0.0012763385464659885]\n",
       "Dan          [0.010587556462828133]\n",
       "Jerry       [-0.023687313832477828]\n",
       "Tim         [-0.006049016361787574]\n",
       "Hannah       [-0.03319578058233784]\n",
       "Quinn         [0.00455131760669532]\n",
       "Ray         [-0.005108295691014426]\n",
       "George        [-0.0508185484311886]\n",
       "Yvonne      [-0.009431459192043835]\n",
       "Bob           [-0.0491188247223946]\n",
       "Norbert       [0.03936579716800174]\n",
       "Victor       [0.004495791937725107]\n",
       "Ingrid       [0.008424909189591887]\n",
       "Sarah        [0.001449296236466594]\n",
       "Wendy        [-0.03691536377249662]\n",
       "Frank         [0.01254856742189228]\n",
       "Laura       [-0.003451640891369274]\n",
       "Patricia     [-0.03478453625919576]\n",
       "Ursula        [0.07816982991077753]\n",
       "Charlie       [0.05101962577097287]\n",
       "Edith        [0.017001791503198777]\n",
       "Kevin        [-0.07798130286562137]\n",
       "Xavier       [-0.03734307137742184]\n",
       "Michael      [0.010179924320114647]\n",
       "Zelda        [-0.03624956266976925]\n",
       "Oliver       [0.013192828490722256]\n",
       "dtype: object"
      ]
     },
     "execution_count": 4,
     "metadata": {},
     "output_type": "execute_result"
    }
   ],
   "source": [
    "df.groupby('name').apply(perform_r_ops, meta=object).compute()"
   ]
  }
 ],
 "metadata": {
  "kernelspec": {
   "display_name": "Python 3",
   "language": "python",
   "name": "python3"
  },
  "language_info": {
   "codemirror_mode": {
    "name": "ipython",
    "version": 3
   },
   "file_extension": ".py",
   "mimetype": "text/x-python",
   "name": "python",
   "nbconvert_exporter": "python",
   "pygments_lexer": "ipython3",
   "version": "3.6.6"
  }
 },
 "nbformat": 4,
 "nbformat_minor": 2
}
