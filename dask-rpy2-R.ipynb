{
 "cells": [
  {
   "cell_type": "markdown",
   "metadata": {},
   "source": [
    "# **Executing R code distributed through Dask**\n",
    "\n",
    "Dask can be used to distribute the executing of R code across a cluster.\n",
    "In this example each worker gets the same R code to execute on different data.\n",
    "It does not parallize the R algorithms or any of the code. The R code runs isolated in the thread of their worker.\n",
    "\n",
    "This example is an extension of the [Dask Dataframe example](https://github.com/dask/dask-examples/blob/master/dataframe.ipynb).\n",
    "\n",
    "### **Requirements for each worker:**\n",
    "- [rpy2](https://rpy2.bitbucket.io/)\n",
    "- [R](https://www.digitalocean.com/community/tutorials/how-to-install-r-on-ubuntu-16-04-2) \n",
    "\n",
    "\n",
    "### **Install rpy2**\n",
    "**NOTE:** Make sure that R is already installed and available else this will not work properly."
   ]
  },
  {
   "cell_type": "code",
   "execution_count": null,
   "metadata": {},
   "outputs": [],
   "source": [
    "!pip install rpy2"
   ]
  },
  {
   "cell_type": "markdown",
   "metadata": {},
   "source": [
    "#### **Imports**"
   ]
  },
  {
   "cell_type": "code",
   "execution_count": 1,
   "metadata": {},
   "outputs": [],
   "source": [
    "import pandas as pd\n",
    "import numpy as np\n",
    "\n",
    "import dask.dataframe as dd\n",
    "from dask.distributed import Client\n",
    "\n",
    "import rpy2.robjects as ro\n",
    "from rpy2.robjects import pandas2ri\n",
    "from rpy2.robjects.packages import importr"
   ]
  },
  {
   "cell_type": "markdown",
   "metadata": {},
   "source": [
    "#### **Create dummy data**\n",
    "\n",
    "We create a random timeseries of data with the following attributes:\n",
    "\n",
    "    It stores a record for every 1 hour of the year 2000\n",
    "    It splits that year by month, keeping every month as a separate Pandas dataframe\n",
    "    Along with a datetime index it has columns for names, ids, and numeric values\n"
   ]
  },
  {
   "cell_type": "code",
   "execution_count": 2,
   "metadata": {},
   "outputs": [],
   "source": [
    "df = dd.demo.make_timeseries('2000-01-01', '2000-12-31', freq='1h', partition_freq='1M',\n",
    "                             dtypes={'name': str, 'id': int, 'x': float, 'y': float})\n",
    "\n"
   ]
  },
  {
   "cell_type": "markdown",
   "metadata": {},
   "source": [
    "#### **Create the callable function**\n",
    "Below is the function created with the R code in it. This acts like a regular python function but does call the interpreter. Keep in mind that the R code stays single threaded as it might behave unexpectedly if you're using R code that is multi-threaded."
   ]
  },
  {
   "cell_type": "code",
   "execution_count": 3,
   "metadata": {},
   "outputs": [],
   "source": [
    "def perform_r_ops(df):\n",
    "    rstring=\"\"\"\n",
    "        function(df){{\n",
    "            df_slice <- df$x\n",
    "            mean(df_slice)                # The data that is returned to Python from the R function. A simple calculation for illustration purposes.\n",
    "        }}\n",
    "    \"\"\"\n",
    "    pandas2ri.activate()             #Activate the environment for each worker through the function\n",
    "    rfunc=ro.r(rstring)              #Create an R object\n",
    "    rdf = pandas2ri.DataFrame(df)    #Convert the pandas dataframe to an R dataframe\n",
    "    r_df = rfunc(df)                 #Execute the R code with the R dataframe as argument\n",
    "    return r_df                      #Return the output. For more info about extracting see: http://rpy2.readthedocs.io/en/version_2.8.x/vector.html#extracting-python-style"
   ]
  },
  {
   "cell_type": "markdown",
   "metadata": {},
   "source": [
    "#### **Groupby Apply with RPY2**"
   ]
  },
  {
   "cell_type": "code",
   "execution_count": 4,
   "metadata": {},
   "outputs": [
    {
     "data": {
      "text/plain": [
       "name\n",
       "Alice       [-0.020649483951557596]\n",
       "Dan         [-0.010924596022318636]\n",
       "Jerry         [0.04493333142680164]\n",
       "Tim          [0.016334682264496882]\n",
       "Hannah        [0.03049909519252575]\n",
       "Quinn        [0.020877898211815096]\n",
       "Ray          [-0.03867841478430033]\n",
       "George       [-0.01505946773820897]\n",
       "Yvonne       [0.025490626157857264]\n",
       "Bob          [0.003996973040876134]\n",
       "Norbert      [0.030308191014517465]\n",
       "Victor       [0.009046161042206964]\n",
       "Ingrid      [-0.043327977398960986]\n",
       "Sarah         [0.03273205715961313]\n",
       "Wendy        [-0.02527674242920192]\n",
       "Frank        [-0.04919060194073418]\n",
       "Laura        [0.029971801911119395]\n",
       "Patricia    [-0.007046741838683191]\n",
       "Ursula      [-0.008313532294525718]\n",
       "Charlie       [0.04298031615209613]\n",
       "Edith         [0.03715192411380558]\n",
       "Kevin        [0.033735930718072585]\n",
       "Xavier        [0.04024388947201336]\n",
       "Michael      [0.016625469170806047]\n",
       "Zelda        [-0.04460181790592972]\n",
       "Oliver       [0.029763681682863113]\n",
       "dtype: object"
      ]
     },
     "execution_count": 4,
     "metadata": {},
     "output_type": "execute_result"
    }
   ],
   "source": [
    "df.groupby('name').apply(perform_r_ops, meta=object).compute()"
   ]
  }
 ],
 "metadata": {
  "kernelspec": {
   "display_name": "Python 3",
   "language": "python",
   "name": "python3"
  },
  "language_info": {
   "codemirror_mode": {
    "name": "ipython",
    "version": 3
   },
   "file_extension": ".py",
   "mimetype": "text/x-python",
   "name": "python",
   "nbconvert_exporter": "python",
   "pygments_lexer": "ipython3",
   "version": "3.6.6"
  }
 },
 "nbformat": 4,
 "nbformat_minor": 2
}
