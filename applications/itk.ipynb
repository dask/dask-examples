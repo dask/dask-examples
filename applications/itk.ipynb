{
 "cells": [
  {
   "cell_type": "markdown",
   "metadata": {},
   "source": [
    "# Image Processing with ITK\n",
    "\n",
    "This notebook shows using Dask to apply ITK functions many times over large volumes of data.\n",
    "\n",
    "As of 2019-12-24 it requires a pre-release of ITK"
   ]
  },
  {
   "cell_type": "code",
   "execution_count": null,
   "metadata": {},
   "outputs": [],
   "source": [
    "!pip install --pre itk"
   ]
  },
  {
   "cell_type": "markdown",
   "metadata": {},
   "source": [
    "## Start Dask Client for Dashboard\n",
    "\n",
    "Starting the Dask Client will provide a dashboard which \n",
    "is useful to gain insight on the computation."
   ]
  },
  {
   "cell_type": "code",
   "execution_count": null,
   "metadata": {},
   "outputs": [],
   "source": [
    "from dask.distributed import Client, progress\n",
    "client = Client(n_workers=4, threads_per_worker=1, processes=False)\n",
    "client"
   ]
  },
  {
   "cell_type": "markdown",
   "metadata": {},
   "source": [
    "## Stack of images\n",
    "\n",
    "We can apply ITK functions along a stack of images with the `apply_gufunc` function."
   ]
  },
  {
   "cell_type": "code",
   "execution_count": null,
   "metadata": {},
   "outputs": [],
   "source": [
    "import dask.array as da\n",
    "\n",
    "x = da.random.random((1000, 500, 500), chunks=(\"auto\", None, None))\n",
    "x"
   ]
  },
  {
   "cell_type": "code",
   "execution_count": null,
   "metadata": {},
   "outputs": [],
   "source": [
    "import itk\n",
    "\n",
    "y = da.apply_gufunc(itk.median_image_filter, \"(i,j)->(i,j)\", x, radius=2)\n",
    "y"
   ]
  },
  {
   "cell_type": "code",
   "execution_count": null,
   "metadata": {},
   "outputs": [],
   "source": [
    "y.max().compute()"
   ]
  },
  {
   "cell_type": "markdown",
   "metadata": {},
   "source": [
    "## Single large image\n",
    "\n",
    "Or we can apply them with a small halo around them with the `map_overlap` function"
   ]
  },
  {
   "cell_type": "code",
   "execution_count": null,
   "metadata": {},
   "outputs": [],
   "source": [
    "import dask.array as da, itk\n",
    "\n",
    "x = da.random.random((100000, 100000))\n",
    "x"
   ]
  },
  {
   "cell_type": "code",
   "execution_count": null,
   "metadata": {},
   "outputs": [],
   "source": [
    "z = x.map_overlap(itk.median_image_filter, radius=2, depth=2)\n",
    "z"
   ]
  },
  {
   "cell_type": "code",
   "execution_count": null,
   "metadata": {},
   "outputs": [],
   "source": [
    "z[:10000, :10000].sum().compute()"
   ]
  },
  {
   "cell_type": "markdown",
   "metadata": {},
   "source": [
    "## Memory issues\n",
    "\n",
    "On my system memory seems to hang around for a while when I use a small chunk size and multiple threads.  I'm not sure why.  Dask has removed all of its references to things.\n",
    "\n",
    "I recommend restarting things before running this section"
   ]
  },
  {
   "cell_type": "code",
   "execution_count": null,
   "metadata": {},
   "outputs": [],
   "source": [
    "import dask\n",
    "dask.config.set({\"array.chunk-size\": \"32 MiB\"})"
   ]
  },
  {
   "cell_type": "code",
   "execution_count": null,
   "metadata": {},
   "outputs": [],
   "source": [
    "import psutil\n",
    "from dask.utils import format_bytes\n",
    "\n",
    "proc = psutil.Process()"
   ]
  },
  {
   "cell_type": "code",
   "execution_count": null,
   "metadata": {},
   "outputs": [],
   "source": [
    "import dask.array as da, itk\n",
    "\n",
    "x = da.random.random((100000, 100000))\n",
    "z = x.map_overlap(itk.median_image_filter, radius=2, depth=2)"
   ]
  },
  {
   "cell_type": "code",
   "execution_count": null,
   "metadata": {},
   "outputs": [],
   "source": [
    "print(\"Before:\", format_bytes(proc.memory_info().rss))\n",
    "z[:10000, :10000].compute(scheduler=\"single-threaded\")\n",
    "print(\"After:\", format_bytes(proc.memory_info().rss))"
   ]
  },
  {
   "cell_type": "code",
   "execution_count": null,
   "metadata": {},
   "outputs": [],
   "source": [
    "print(\"Before:\", format_bytes(proc.memory_info().rss))\n",
    "z[:10000, :10000].compute(scheduler=\"threading\")\n",
    "print(\"After:\", format_bytes(proc.memory_info().rss))"
   ]
  }
 ],
 "metadata": {
  "kernelspec": {
   "display_name": "Python 3",
   "language": "python",
   "name": "python3"
  },
  "language_info": {
   "codemirror_mode": {
    "name": "ipython",
    "version": 3
   },
   "file_extension": ".py",
   "mimetype": "text/x-python",
   "name": "python",
   "nbconvert_exporter": "python",
   "pygments_lexer": "ipython3",
   "version": "3.7.4"
  }
 },
 "nbformat": 4,
 "nbformat_minor": 4
}
