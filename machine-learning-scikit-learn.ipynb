{
 "cells": [
  {
   "cell_type": "markdown",
   "metadata": {},
   "source": [
    "# Scikit-learn + Dask"
   ]
  },
  {
   "cell_type": "markdown",
   "metadata": {},
   "source": [
    "Scikit-learn is a popular machine learning library whose API is easy to use. It encompasses a wide variety of problem formulations, ranging from simple data preperation tasks to various decompositions. Scikit-learn works great for problems that fit on a single machine, but struggles for larger problems. This has even gotten a page in their user guide, \"[Strategies to scale computationally: bigger data][strat]\".\n",
    "\n",
    "Using scikit-learn estimators with Dask-ML helps scale to large datasets. All the computation remains on scikit-learn's shoulders but the data management is handled by Dask. This allows scaling to large datasets distributed across many machines, or to datasets that do not fit in memory.\n",
    "\n",
    "This example will show\n",
    "\n",
    "* wrapping a scikit-learn estimator that implements `partial_fit` with [dask_ml.wrappers.Incremental]\n",
    "* training, predicting, and scoring on this wrapped classifier\n",
    "* integration with other parts of scikit-learn (i.e., with GridSearchCV)\n",
    "\n",
    "[dask_ml.wrappers.Incremental]:https://dask-ml.readthedocs.io/en/latest/modules/generated/dask_ml.wrappers.Incremental.html#dask_ml.wrappers.Incremental\n",
    "\n",
    "Though this example is made with a scikit-learn estimator, it will work for any class that implements `partial_fit` and the [scikit-learn base estimator API].\n",
    "\n",
    "[scikit-learn base estimator API]:http://scikit-learn.org/stable/modules/generated/sklearn.base.BaseEstimator.html\n",
    "\n",
    "<img src=\"http://scikit-learn.org/stable/_static/scikit-learn-logo-small.png\">\n",
    "<img src=\"https://www.continuum.io/sites/default/files/dask_stacked.png\" width=\"100px\">\n",
    "\n",
    "[strat]:http://scikit-learn.org/stable/modules/scaling_strategies.html\n"
   ]
  },
  {
   "cell_type": "markdown",
   "metadata": {},
   "source": [
    "## Dask setup"
   ]
  },
  {
   "cell_type": "markdown",
   "metadata": {},
   "source": [
    "Creating a distributed scheduler will provide good feedback because we can view the dask.distributed dashboard. This will provide progress and performance metrics, including visualization of jobs that are running."
   ]
  },
  {
   "cell_type": "code",
   "execution_count": 1,
   "metadata": {},
   "outputs": [
    {
     "data": {
      "text/html": [
       "<table style=\"border: 2px solid white;\">\n",
       "<tr>\n",
       "<td style=\"vertical-align: top; border: 0px solid white\">\n",
       "<h3>Client</h3>\n",
       "<ul>\n",
       "  <li><b>Scheduler: </b>tcp://127.0.0.1:57410\n",
       "  <li><b>Dashboard: </b><a href='http://127.0.0.1:8787/status' target='_blank'>http://127.0.0.1:8787/status</a>\n",
       "</ul>\n",
       "</td>\n",
       "<td style=\"vertical-align: top; border: 0px solid white\">\n",
       "<h3>Cluster</h3>\n",
       "<ul>\n",
       "  <li><b>Workers: </b>8</li>\n",
       "  <li><b>Cores: </b>8</li>\n",
       "  <li><b>Memory: </b>17.18 GB</li>\n",
       "</ul>\n",
       "</td>\n",
       "</tr>\n",
       "</table>"
      ],
      "text/plain": [
       "<Client: scheduler='tcp://127.0.0.1:57410' processes=8 cores=8>"
      ]
     },
     "execution_count": 1,
     "metadata": {},
     "output_type": "execute_result"
    }
   ],
   "source": [
    "from distributed import Client, LocalCluster\n",
    "client = Client()\n",
    "client"
   ]
  },
  {
   "cell_type": "markdown",
   "metadata": {},
   "source": [
    "## Data creation\n",
    "We will create synthetic data because we are more interested in showing how these data flow through the estimator, rather than any insights we can glean from the data.\n",
    "\n",
    "Let's create a synthetic dataset that's not too large (so it runs in a reasonable time) and but is realistically large and can show Dask features. We have 100,000 examples and 100 features in this dataset we create:"
   ]
  },
  {
   "cell_type": "code",
   "execution_count": 2,
   "metadata": {},
   "outputs": [
    {
     "data": {
      "text/plain": [
       "dask.array<normal, shape=(100000, 100), dtype=float64, chunksize=(10000, 100)>"
      ]
     },
     "execution_count": 2,
     "metadata": {},
     "output_type": "execute_result"
    }
   ],
   "source": [
    "import numpy as np\n",
    "import dask.array as da\n",
    "from dask_ml.datasets import make_classification\n",
    "import dask\n",
    "\n",
    "n, d = 100000, 100\n",
    "\n",
    "X, y = make_classification(n_samples=n, n_features=d,\n",
    "                           chunks=n // 10)\n",
    "X"
   ]
  },
  {
   "cell_type": "markdown",
   "metadata": {},
   "source": [
    "If this were a real use case, the Dask arrays `X` and `y` would be real data (e.g., from file system or a database). There are many methods to create Dask arrays (https://dask.pydata.org/en/latest/array-creation.html) and Dask dataframes (https://dask.pydata.org/en/latest/dataframe-create.html)."
   ]
  },
  {
   "cell_type": "markdown",
   "metadata": {},
   "source": [
    "## Data splitting for training and testing\n",
    "We are interested in evaluating this model, so we don't want to learn from test data. This prevents against that."
   ]
  },
  {
   "cell_type": "code",
   "execution_count": 3,
   "metadata": {},
   "outputs": [
    {
     "data": {
      "text/plain": [
       "dask.array<concatenate, shape=(90000, 100), dtype=float64, chunksize=(9000, 100)>"
      ]
     },
     "execution_count": 3,
     "metadata": {},
     "output_type": "execute_result"
    }
   ],
   "source": [
    "from dask_ml.model_selection import train_test_split\n",
    "X_train, X_test, y_train, y_test = train_test_split(X, y)\n",
    "X_train"
   ]
  },
  {
   "cell_type": "markdown",
   "metadata": {},
   "source": [
    "We haven't done any work yet – Dasks operations are lazy, so we've only described to Dask what we want to do. When we tell Dask we want to do work, it'll be done in parallel on a worker or out-of-core."
   ]
  },
  {
   "cell_type": "markdown",
   "metadata": {},
   "source": [
    "## Create Scikit-Learn model"
   ]
  },
  {
   "cell_type": "markdown",
   "metadata": {},
   "source": [
    "We make the underlying scikit-learn estimator:"
   ]
  },
  {
   "cell_type": "code",
   "execution_count": 6,
   "metadata": {},
   "outputs": [],
   "source": [
    "from sklearn.linear_model import SGDClassifier\n",
    "\n",
    "est = SGDClassifier(loss='log', penalty='l1', tol=1e-3, average=True)"
   ]
  },
  {
   "cell_type": "markdown",
   "metadata": {},
   "source": [
    "This estimator must implement `partial_fit` to be wrapped with [Dask-ML's Incremental][1]. A list of models that implement this API is available on a scikit-learn documentation page under \"Incremental learning\": http://scikit-learn.org/stable/modules/scaling_strategies.html#incremental-learning\n",
    "\n",
    "[1]:https://dask-ml.readthedocs.io/en/latest/modules/generated/dask_ml.wrappers.Incremental.html#dask_ml.wrappers.Incremental"
   ]
  },
  {
   "cell_type": "markdown",
   "metadata": {},
   "source": [
    "## Wrap Scikit-Learn with Dask-ML"
   ]
  },
  {
   "cell_type": "markdown",
   "metadata": {},
   "source": [
    "Now, let's wrap it with `dask_ml.wrappers.Incremental`: https://dask-ml.readthedocs.io/en/latest/modules/generated/dask_ml.wrappers.Incremental.html#dask_ml.wrappers.Incremental. `Incremental` is a meta-estimator, or an estimator that takes in another estimator."
   ]
  },
  {
   "cell_type": "code",
   "execution_count": 7,
   "metadata": {},
   "outputs": [],
   "source": [
    "from dask_ml.wrappers import Incremental\n",
    "\n",
    "inc = Incremental(est, scoring='accuracy')"
   ]
  },
  {
   "cell_type": "markdown",
   "metadata": {},
   "source": [
    "`Incremental` does data management: it calls `est.partial_fit` on each chunk of the passed data. Dask moves the model to different chunks of the data (or vice versa) to let this happen. Note: Dask-ML `Incremental` gives data to Scikit-learn and does not change the underlying optimization algorithm that Scikit-learn uses (though there are other estimators in Dask-ML that do this for specific formulations).\n",
    "\n",
    "It is important to specify the scoring parameter in `Incremental`; otherwise, scikit-learn scorers are fed Dask arrays (which they're not optimized for).\n",
    "\n",
    "\n",
    "[1]:http://scikit-learn.org/stable/modules/scaling_strategies.html\n",
    "[inc]:http://scikit-learn.org/stable/modules/scaling_strategies.html#incremental-learning"
   ]
  },
  {
   "cell_type": "markdown",
   "metadata": {},
   "source": [
    "## Model training"
   ]
  },
  {
   "cell_type": "markdown",
   "metadata": {},
   "source": [
    "`Incremental` implements a `fit` method, which will perform one loop over the dataset, calling `partial_fit` over each chunk in the Dask array."
   ]
  },
  {
   "cell_type": "code",
   "execution_count": 24,
   "metadata": {},
   "outputs": [
    {
     "data": {
      "text/plain": [
       "Incremental(estimator=SGDClassifier(alpha=0.0001, average=True, class_weight=None, epsilon=0.1,\n",
       "       eta0=0.0, fit_intercept=True, l1_ratio=0.15,\n",
       "       learning_rate='optimal', loss='hinge', max_iter=None, n_iter=None,\n",
       "       n_jobs=1, penalty='l2', power_t=0.5, random_state=None,\n",
       "       shuffle=True, tol=0.0, verbose=0, warm_start=False),\n",
       "      random_state=None, scoring='accuracy', shuffle_blocks=True)"
      ]
     },
     "execution_count": 24,
     "metadata": {},
     "output_type": "execute_result"
    }
   ],
   "source": [
    "inc.fit(X_train, y_train, classes=classes)"
   ]
  },
  {
   "cell_type": "markdown",
   "metadata": {},
   "source": [
    "### Calling `partial_fit`\n",
    "Let's call `partial_fit` multiple times because this is an incremental classifier. \n",
    "#### Persisting the data"
   ]
  },
  {
   "cell_type": "markdown",
   "metadata": {},
   "source": [
    "This does require calling `persist` on the data for performance. This can happen because this dataset is small enough to fit in distributed memory. This will compute the data and put into memory, which has some real benefits. It will not need to perform computation to pull the data everytime it is referenced."
   ]
  },
  {
   "cell_type": "code",
   "execution_count": null,
   "metadata": {},
   "outputs": [],
   "source": [
    "X_train, X_test, y_train, y_test = dask.persist(X_train, X_test, y_train, y_test)"
   ]
  },
  {
   "cell_type": "markdown",
   "metadata": {},
   "source": [
    "If we didn't call `persist`, this data would have to be recomputed every time. Calling `persist` makes this training about 3x faster."
   ]
  },
  {
   "cell_type": "markdown",
   "metadata": {},
   "source": [
    "This is especially relevant with `classes`, which is required for our `partial_fit` call. This requires a full pass over the dataset. Because `classes` is a small object and there are only two classes, we'll call `compute` instead of `persist`."
   ]
  },
  {
   "cell_type": "code",
   "execution_count": 25,
   "metadata": {},
   "outputs": [
    {
     "data": {
      "text/plain": [
       "array([0, 1])"
      ]
     },
     "execution_count": 25,
     "metadata": {},
     "output_type": "execute_result"
    }
   ],
   "source": [
    "classes = da.unique(y).compute()\n",
    "classes"
   ]
  },
  {
   "cell_type": "markdown",
   "metadata": {},
   "source": [
    "#### Training"
   ]
  },
  {
   "cell_type": "markdown",
   "metadata": {},
   "source": [
    "We'll create and run many small graphs at once in a for-loop, even though Dask prefers to create one large graph before running. "
   ]
  },
  {
   "cell_type": "markdown",
   "metadata": {},
   "source": [
    "Now we can call `partial_fit` multiple times. Before we do that, we'll have to create our estimators `est` and `inc` because they've already been fitted through above."
   ]
  },
  {
   "cell_type": "code",
   "execution_count": 26,
   "metadata": {},
   "outputs": [],
   "source": [
    "est = SGDClassifier(loss='hinge', penalty='l2', tol=0e-3, average=True)\n",
    "inc = Incremental(est, scoring='accuracy')"
   ]
  },
  {
   "cell_type": "markdown",
   "metadata": {},
   "source": [
    "And now for calling `partial_fit` multiple times and collecting some metadata."
   ]
  },
  {
   "cell_type": "code",
   "execution_count": 27,
   "metadata": {},
   "outputs": [
    {
     "name": "stdout",
     "output_type": "stream",
     "text": [
      "{'epoch': 0, 'test_score': 0.6641, 'time': 0.31238818168640137}\n",
      "{'epoch': 1, 'test_score': 0.666, 'time': 0.6242408752441406}\n",
      "{'epoch': 2, 'test_score': 0.6664, 'time': 0.9747679233551025}\n",
      "{'epoch': 3, 'test_score': 0.6667, 'time': 1.2866020202636719}\n",
      "{'epoch': 4, 'test_score': 0.6677, 'time': 1.6056740283966064}\n",
      "{'epoch': 5, 'test_score': 0.6665, 'time': 1.934689998626709}\n",
      "{'epoch': 6, 'test_score': 0.6666, 'time': 2.253448009490967}\n",
      "{'epoch': 7, 'test_score': 0.6667, 'time': 2.5694589614868164}\n",
      "{'epoch': 8, 'test_score': 0.6668, 'time': 2.889284133911133}\n",
      "{'epoch': 9, 'test_score': 0.6671, 'time': 3.247598171234131}\n"
     ]
    }
   ],
   "source": [
    "from distributed.metrics import time\n",
    "\n",
    "data = []\n",
    "start = time()\n",
    "for epoch in range(10):\n",
    "    inc.partial_fit(X_train, y_train, classes=classes)\n",
    "    inc.score(X_test, y_test)\n",
    "    data += [{'epoch': epoch,\n",
    "              'test_score': inc.score(X_test, y_test),\n",
    "              'time': time() - start}]\n",
    "    print(data[-1])"
   ]
  },
  {
   "cell_type": "markdown",
   "metadata": {},
   "source": [
    "This for-loop is simple, even though it's doing a fairly complex operation. One could imagine having each iteration of this for-loop to be complicated and manage data IO as well as giving the estimator different chunks. With distributed, the IO cost is paid once at the beginning then not once again.\n",
    "\n",
    "And we can plot the test scores over different training iterations:"
   ]
  },
  {
   "cell_type": "code",
   "execution_count": 29,
   "metadata": {},
   "outputs": [
    {
     "data": {
      "image/png": "[encoded data removed]",
      "text/plain": [
       "<Figure size 432x288 with 1 Axes>"
      ]
     },
     "metadata": {},
     "output_type": "display_data"
    }
   ],
   "source": [
    "%matplotlib inline\n",
    "import pandas as pd\n",
    "import matplotlib.pyplot as plt\n",
    "\n",
    "df = pd.DataFrame(data)\n",
    "df.plot(x='time', y='test_score')\n",
    "_ = plt.ylabel('Test score')"
   ]
  },
  {
   "cell_type": "markdown",
   "metadata": {},
   "source": [
    "## Scoring"
   ]
  },
  {
   "cell_type": "markdown",
   "metadata": {},
   "source": [
    "We can also call `Incremental.score` to compute the accuracy for us:"
   ]
  },
  {
   "cell_type": "code",
   "execution_count": 30,
   "metadata": {},
   "outputs": [
    {
     "data": {
      "text/plain": [
       "0.6671"
      ]
     },
     "execution_count": 30,
     "metadata": {},
     "output_type": "execute_result"
    }
   ],
   "source": [
    "inc.score(X_test, y_test)"
   ]
  },
  {
   "cell_type": "markdown",
   "metadata": {},
   "source": [
    "This accuracy can also be computed by seeing where `inc.pred(X_test)` is not equal to `y_test`. For more details on how to do this with raw dask arrays, see the array example."
   ]
  },
  {
   "cell_type": "markdown",
   "metadata": {},
   "source": [
    "## Learn more\n",
    "### Model selection\n",
    "Model selection is often a critical task because (almost) every estimator has many parameters to configure even before fitting starts. These values typically have defaults but can drastically affect performance. Ways to tune these parameters are through scikit-learns GridSearchCV and RandomizedSearchCV.\n",
    "\n",
    "dask-searchcv is a drop in replacement and optimizes scikit-learn's GridSearchCV and RandomizedSearchCV. For more detail, see https://dask-searchcv.readthedocs.io/en/latest/\n",
    "\n",
    "### Dask + scikit-learn's parallel engine\n",
    "Scikit-learn depends on joblib for it's parallelism. It's often available by specifying a `n_jobs` keyword (e.g., in [sklearn.model_selection.GridSearchCV][1]). Dask can serve as a joblib backend, meaning that anytime joblib is called it gets routed to Dask. For more detail, see https://dask-ml.readthedocs.io/en/latest/joblib.html\n",
    "\n",
    "[1]:http://scikit-learn.org/stable/modules/generated/sklearn.model_selection.GridSearchCV.html"
   ]
  },
  {
   "cell_type": "code",
   "execution_count": null,
   "metadata": {},
   "outputs": [],
   "source": []
  }
 ],
 "metadata": {
  "kernelspec": {
   "display_name": "Python 3",
   "language": "python",
   "name": "python3"
  },
  "language_info": {
   "codemirror_mode": {
    "name": "ipython",
    "version": 3
   },
   "file_extension": ".py",
   "mimetype": "text/x-python",
   "name": "python",
   "nbconvert_exporter": "python",
   "pygments_lexer": "ipython3",
   "version": "3.6.5"
  }
 },
 "nbformat": 4,
 "nbformat_minor": 2
}
